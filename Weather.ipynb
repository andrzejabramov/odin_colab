{
  "nbformat": 4,
  "nbformat_minor": 0,
  "metadata": {
    "colab": {
      "provenance": []
    },
    "kernelspec": {
      "name": "python3",
      "display_name": "Python 3"
    },
    "language_info": {
      "name": "python"
    }
  },
  "cells": [
    {
      "cell_type": "code",
      "execution_count": null,
      "metadata": {
        "id": "FZWqxdcjFE1N"
      },
      "outputs": [],
      "source": [
        "#ab6c3eb1ec076b553a0492b06ae91a4e\n",
        "#http://api.openweathermap.org/geo/1.0/direct?q={city name},{state code},{country code}&limit={limit}&appid={API key}"
      ]
    },
    {
      "cell_type": "code",
      "source": [
        "import requests as rq"
      ],
      "metadata": {
        "id": "rYfFXwNwFoM-"
      },
      "execution_count": null,
      "outputs": []
    },
    {
      "cell_type": "code",
      "source": [
        "key = \"ab6c3eb1ec076b553a0492b06ae91a4e\"\n",
        "url = \"http://api.openweathermap.org/geo/1.0/direct\"\n",
        "param = {\"q\": \"Краснодар\", \"appid\": key}\n",
        "response = rq.get(url=url, params=param)"
      ],
      "metadata": {
        "id": "m0CJqISdFYc5"
      },
      "execution_count": null,
      "outputs": []
    },
    {
      "cell_type": "code",
      "source": [
        "response.status_code"
      ],
      "metadata": {
        "colab": {
          "base_uri": "https://localhost:8080/"
        },
        "id": "6HTQsF55GZNl",
        "outputId": "f68a8d93-4c2d-4aea-ba32-1f56c5a7fc6e"
      },
      "execution_count": null,
      "outputs": [
        {
          "output_type": "execute_result",
          "data": {
            "text/plain": [
              "200"
            ]
          },
          "metadata": {},
          "execution_count": 18
        }
      ]
    },
    {
      "cell_type": "code",
      "source": [
        "response.json()[0]['lon']\n",
        "response.json()[0]['lat']"
      ],
      "metadata": {
        "colab": {
          "base_uri": "https://localhost:8080/"
        },
        "id": "UwuJN8adWkZD",
        "outputId": "316691ca-6f0e-456f-e88d-f335dc82569d"
      },
      "execution_count": null,
      "outputs": [
        {
          "output_type": "execute_result",
          "data": {
            "text/plain": [
              "45.0352718"
            ]
          },
          "metadata": {},
          "execution_count": 22
        }
      ]
    },
    {
      "cell_type": "code",
      "source": [
        "def getGeo(sityName: str, key: str)-> tuple:\n",
        "  url = 'http://api.openweathermap.org/geo/1.0/direct'\n",
        "  params = {\"q\": sityName, \"appid\": key}\n",
        "  resp = rq.get(url=url, params=params)\n",
        "  try:\n",
        "    lat = resp.json()[0]['lat']\n",
        "    lon = resp.json()[0]['lon']\n",
        "    return lat, lon\n",
        "  except Exception as e:\n",
        "    return (\"не удалось найти\",)"
      ],
      "metadata": {
        "id": "4hrfUDf4ZOju"
      },
      "execution_count": null,
      "outputs": []
    },
    {
      "cell_type": "code",
      "source": [
        "getGeo('Краснодар', key)"
      ],
      "metadata": {
        "colab": {
          "base_uri": "https://localhost:8080/"
        },
        "id": "DC9NXupubJ7w",
        "outputId": "c0990bfd-9bd4-46d5-9f07-533ddf8f530d"
      },
      "execution_count": null,
      "outputs": [
        {
          "output_type": "execute_result",
          "data": {
            "text/plain": [
              "(45.0352718, 38.9764814)"
            ]
          },
          "metadata": {},
          "execution_count": 32
        }
      ]
    }
  ]
}